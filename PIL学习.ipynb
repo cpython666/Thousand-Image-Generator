{
 "cells": [
  {
   "cell_type": "code",
   "execution_count": null,
   "metadata": {
    "collapsed": true
   },
   "outputs": [],
   "source": [
    "# 一切的图像本质就是矩阵，也就是数组"
   ]
  },
  {
   "cell_type": "code",
   "execution_count": 1,
   "outputs": [],
   "source": [
    "# 加载一个图像并输出基本信息\n",
    "# format 属性标识图像的源。\n",
    "# 如果图像不是从文件中读取的，则将其设置为“无”。\n",
    "# 大小属性是包含宽度和高度（以像素为单位）的2元组。\n",
    "# 这个 mode 属性定义图像中带区的编号和名称，以及像素类型和深度。\n",
    "# 常用模式有灰度图像的“L”（亮度）、真彩色图像的“RGB”和预压图像的“CMYK”。我个人感觉还有个png的RGBA，就是带上透明度\n",
    "from PIL import Image"
   ],
   "metadata": {
    "collapsed": false,
    "ExecuteTime": {
     "start_time": "2023-12-17T17:26:20.672817Z",
     "end_time": "2023-12-17T17:26:20.733018Z"
    }
   }
  },
  {
   "cell_type": "code",
   "execution_count": 4,
   "outputs": [
    {
     "name": "stdout",
     "output_type": "stream",
     "text": [
      "图像：imgs/3.png,图片格式：PNG, 图片宽高：(1980, 1024), 色彩类型：P\n"
     ]
    }
   ],
   "source": [
    "def get_img_info(img_path='1.jpg'):\n",
    "    im = Image.open(img_path)\n",
    "    print(f'图像：{img_path},图片格式：{im.format}, 图片宽高：{im.size}, 色彩类型：{im.mode}')\n",
    "# get_img_info()\n",
    "# get_img_info('sky.jpg')\n",
    "# get_img_info('sky.png')\n",
    "get_img_info('imgs/3.png')"
   ],
   "metadata": {
    "collapsed": false,
    "ExecuteTime": {
     "start_time": "2023-12-17T17:29:00.204031Z",
     "end_time": "2023-12-17T17:29:00.223181Z"
    }
   }
  },
  {
   "cell_type": "code",
   "execution_count": 13,
   "outputs": [
    {
     "data": {
      "text/plain": "'1.jpg'"
     },
     "execution_count": 13,
     "metadata": {},
     "output_type": "execute_result"
    }
   ],
   "source": [
    "# 有了Image对象后我们就可以使用该类定义的方法来处理和操作图像\n",
    "# 显示图像\n",
    "im = Image.open('1.jpg')\n",
    "im.filename\n",
    "# im.show()"
   ],
   "metadata": {
    "collapsed": false,
    "ExecuteTime": {
     "start_time": "2023-12-17T16:23:47.014935Z",
     "end_time": "2023-12-17T16:23:47.048148Z"
    }
   }
  },
  {
   "cell_type": "code",
   "execution_count": 15,
   "outputs": [],
   "source": [
    "# 要从磁盘读取文件，请使用 open() 功能在 Image 模块。打开文件不需要知道文件格式。库根据文件的内容自动确定格式。\n",
    "# 保存文件时，名称变得很重要。除非指定格式，否则库将使用文件扩展名来发现要使用的文件存储格式。\n",
    "# 在Image中有一个方法convert可以支持RGBA与RGB的相互转化\n",
    "\n",
    "def png2jpg(img_path='1.png'):\n",
    "    png = Image.open(img_path)\n",
    "    img_name=img_path.filename\n",
    "\n",
    "    rgb_im=im.convert('RGB')\n",
    "    rgb_im.save('sky.jpg')"
   ],
   "metadata": {
    "collapsed": false
   }
  },
  {
   "cell_type": "code",
   "execution_count": null,
   "outputs": [],
   "source": [
    "from PIL import Image\n",
    "\n",
    "def convert_png_to_jpg(input_path, output_path, quality=95):\n",
    "    \"\"\"\n",
    "    将PNG图像转换为JPEG图像\n",
    "\n",
    "    Parameters:\n",
    "    - input_path (str): 输入PNG图像文件的路径\n",
    "    - output_path (str): 输出JPEG图像文件的路径\n",
    "    - quality (int, optional): JPEG图像质量，取值范围为1到95，默认为95\n",
    "\n",
    "    Returns:\n",
    "    - None\n",
    "    \"\"\"\n",
    "    # 打开PNG图像\n",
    "    png_image = Image.open(input_path)\n",
    "\n",
    "    # 将PNG图像保存为JPEG图像\n",
    "    png_image.convert(\"RGB\").save(output_path, \"JPEG\", quality=quality)\n",
    "\n",
    "# 示例用法\n",
    "input_png_path = \"path/to/your/input.png\"\n",
    "output_jpg_path = \"path/to/your/output.jpg\"\n",
    "convert_png_to_jpg(input_png_path, output_jpg_path)\n"
   ],
   "metadata": {
    "collapsed": false
   }
  },
  {
   "cell_type": "code",
   "execution_count": 16,
   "outputs": [],
   "source": [
    "box = (100, 100, 400, 400)\n",
    "region = im.crop(box)\n",
    "region.show()"
   ],
   "metadata": {
    "collapsed": false
   }
  },
  {
   "cell_type": "code",
   "execution_count": 19,
   "outputs": [
    {
     "ename": "AttributeError",
     "evalue": "module 'PIL.Image' has no attribute 'Transpose'",
     "output_type": "error",
     "traceback": [
      "\u001B[1;31m---------------------------------------------------------------------------\u001B[0m",
      "\u001B[1;31mAttributeError\u001B[0m                            Traceback (most recent call last)",
      "\u001B[1;32m~\\AppData\\Local\\Temp/ipykernel_12420/2822838955.py\u001B[0m in \u001B[0;36m<module>\u001B[1;34m\u001B[0m\n\u001B[1;32m----> 1\u001B[1;33m \u001B[0mregion\u001B[0m \u001B[1;33m=\u001B[0m \u001B[0mregion\u001B[0m\u001B[1;33m.\u001B[0m\u001B[0mtranspose\u001B[0m\u001B[1;33m(\u001B[0m\u001B[0mImage\u001B[0m\u001B[1;33m.\u001B[0m\u001B[0mTranspose\u001B[0m\u001B[1;33m.\u001B[0m\u001B[0mROTATE_180\u001B[0m\u001B[1;33m)\u001B[0m\u001B[1;33m\u001B[0m\u001B[1;33m\u001B[0m\u001B[0m\n\u001B[0m\u001B[0;32m      2\u001B[0m \u001B[0mim\u001B[0m\u001B[1;33m.\u001B[0m\u001B[0mpaste\u001B[0m\u001B[1;33m(\u001B[0m\u001B[0mregion\u001B[0m\u001B[1;33m,\u001B[0m \u001B[0mbox\u001B[0m\u001B[1;33m)\u001B[0m\u001B[1;33m\u001B[0m\u001B[1;33m\u001B[0m\u001B[0m\n\u001B[0;32m      3\u001B[0m \u001B[0mim\u001B[0m\u001B[1;33m.\u001B[0m\u001B[0mshow\u001B[0m\u001B[1;33m(\u001B[0m\u001B[1;33m)\u001B[0m\u001B[1;33m\u001B[0m\u001B[1;33m\u001B[0m\u001B[0m\n",
      "\u001B[1;32mD:\\anaconda2\\lib\\site-packages\\PIL\\Image.py\u001B[0m in \u001B[0;36m__getattr__\u001B[1;34m(name)\u001B[0m\n\u001B[0;32m     63\u001B[0m         )\n\u001B[0;32m     64\u001B[0m         \u001B[1;32mreturn\u001B[0m \u001B[0mcategories\u001B[0m\u001B[1;33m[\u001B[0m\u001B[0mname\u001B[0m\u001B[1;33m]\u001B[0m\u001B[1;33m\u001B[0m\u001B[1;33m\u001B[0m\u001B[0m\n\u001B[1;32m---> 65\u001B[1;33m     \u001B[1;32mraise\u001B[0m \u001B[0mAttributeError\u001B[0m\u001B[1;33m(\u001B[0m\u001B[1;34mf\"module '{__name__}' has no attribute '{name}'\"\u001B[0m\u001B[1;33m)\u001B[0m\u001B[1;33m\u001B[0m\u001B[1;33m\u001B[0m\u001B[0m\n\u001B[0m\u001B[0;32m     66\u001B[0m \u001B[1;33m\u001B[0m\u001B[0m\n\u001B[0;32m     67\u001B[0m \u001B[1;33m\u001B[0m\u001B[0m\n",
      "\u001B[1;31mAttributeError\u001B[0m: module 'PIL.Image' has no attribute 'Transpose'"
     ]
    }
   ],
   "source": [
    "region = region.transpose(Image.Transpose.ROTATE_180)\n",
    "im.paste(region, box)\n",
    "im.show()"
   ],
   "metadata": {
    "collapsed": false
   }
  },
  {
   "cell_type": "code",
   "execution_count": null,
   "outputs": [],
   "source": [],
   "metadata": {
    "collapsed": false
   }
  }
 ],
 "metadata": {
  "kernelspec": {
   "display_name": "Python 3",
   "language": "python",
   "name": "python3"
  },
  "language_info": {
   "codemirror_mode": {
    "name": "ipython",
    "version": 2
   },
   "file_extension": ".py",
   "mimetype": "text/x-python",
   "name": "python",
   "nbconvert_exporter": "python",
   "pygments_lexer": "ipython2",
   "version": "2.7.6"
  }
 },
 "nbformat": 4,
 "nbformat_minor": 0
}
